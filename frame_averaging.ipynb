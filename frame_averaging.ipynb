{
 "cells": [
  {
   "cell_type": "code",
   "execution_count": null,
   "metadata": {},
   "outputs": [],
   "source": [
    "# Import required libraries\n",
    "import os\n",
    "import cv2\n",
    "import numpy as np\n",
    "from skimage import img_as_float\n",
    "from skimage import img_as_float, img_as_ubyte"
   ]
  },
  {
   "cell_type": "markdown",
   "metadata": {},
   "source": [
    "## Convert video into a single image based on frame averaging"
   ]
  },
  {
   "cell_type": "code",
   "execution_count": null,
   "metadata": {},
   "outputs": [],
   "source": [
    "\n",
    "# Function to create a directory if it doesn't exist\n",
    "def create_directory(directory):\n",
    "    if not os.path.exists(directory):\n",
    "        os.makedirs(directory)\n",
    "\n",
    "# Specify the folder containing the videos\n",
    "input_folder = '/scratch/project_2000255/Usman/replay_dataset_saliency/test/real'  # Replace with the actual folder path\n",
    "output_folder = '/scratch/project_2000255/Usman/replay_dataset_saliency/test/real_frame_aver'  # Replace with the output folder path\n",
    "\n",
    "# Get a list of all video files in the folder\n",
    "video_files = [f for f in os.listdir(input_folder) if f.endswith(('.avi', '.mp4', '.mov'))]  # Change the extensions as necessary\n",
    "\n",
    "# Loop through each video file\n",
    "for video_file in video_files:\n",
    "    # Read the video file\n",
    "    video_path = os.path.join(input_folder, video_file)\n",
    "    video = cv2.VideoCapture(video_path)\n",
    "    \n",
    "    # Create a folder for saving images\n",
    "    video_name = os.path.splitext(video_file)[0]\n",
    "    create_directory(os.path.join(output_folder, video_name))\n",
    "    \n",
    "    # Read the first frame\n",
    "    ret, first_frame = video.read()\n",
    "    if not ret:\n",
    "        print(f\"Failed to read the video file: {video_file}\")\n",
    "        continue\n",
    "\n",
    "    # Initialize variables for averaging\n",
    "    sum_frames = np.float64(first_frame)\n",
    "    frame_count = 1\n",
    "    \n",
    "    # Read and accumulate frames from the video\n",
    "    while True:\n",
    "        ret, frame = video.read()\n",
    "        if not ret:\n",
    "            break\n",
    "        sum_frames += np.float64(frame)\n",
    "        frame_count += 1\n",
    "\n",
    "    # Calculate the average frame\n",
    "    average_frame = np.uint8(sum_frames / frame_count)\n",
    "\n",
    "    # Save the average frame\n",
    "    average_frame_filename = os.path.join(output_folder, video_name, f\"{video_name}_average.jpg\")\n",
    "    cv2.imwrite(average_frame_filename, average_frame)\n",
    "\n",
    "    print(f\"Average frame saved: {average_frame_filename}\")\n",
    "\n",
    "print(\"All videos processed.\")\n"
   ]
  }
 ],
 "metadata": {
  "language_info": {
   "name": "python"
  }
 },
 "nbformat": 4,
 "nbformat_minor": 2
}
